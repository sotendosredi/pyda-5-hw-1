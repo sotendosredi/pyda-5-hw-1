{
 "cells": [
  {
   "cell_type": "code",
   "execution_count": 4,
   "metadata": {},
   "outputs": [
    {
     "data": {
      "text/plain": [
       "True"
      ]
     },
     "execution_count": 4,
     "metadata": {},
     "output_type": "execute_result"
    }
   ],
   "source": [
    "long_phrase = 'Насколько проще было бы писать программы, если бы не заказчики'\n",
    "short_phrase = '640Кб должно хватить для любых задач. Билл Гейтс (по легенде)'\n",
    "len (long_phrase) > len (short_phrase)\n"
   ]
  },
  {
   "cell_type": "code",
   "execution_count": 12,
   "metadata": {},
   "outputs": [
    {
     "name": "stdout",
     "output_type": "stream",
     "text": [
      "6134.627459526062\n"
     ]
    }
   ],
   "source": [
    "file_w = 6432623123\n",
    "a = 2**20\n",
    "print (file_w/a)"
   ]
  },
  {
   "cell_type": "code",
   "execution_count": 15,
   "metadata": {},
   "outputs": [
    {
     "name": "stdout",
     "output_type": "stream",
     "text": [
      "Введите месяц рождения: январь\n",
      "Введите день рождения: 18\n",
      "Ваш знак зодиака - козерог\n"
     ]
    }
   ],
   "source": [
    "month = input(\"Введите месяц рождения: \")\n",
    "month = month.lower()\n",
    "date = int(input(\"Введите день рождения: \"))\n",
    "\n",
    "if month == 'март':\n",
    "  sign = 'овен' if (date >= 21) else 'рыбы'\n",
    "elif month == 'апрель':\n",
    "  sign = 'телец' if (date >= 21) else 'овен'\n",
    "elif month == 'май':\n",
    "  sign = 'близнецы' if (date >= 22) else 'телец'\n",
    "elif month == 'июнь':\n",
    "  sign = 'рак' if (date >= 22) else 'близнецы'\n",
    "elif month == 'июль':\n",
    "  sign = 'лев' if (date >= 23) else 'рак'\n",
    "elif month == 'август':\n",
    "  sign = 'дева' if (date >= 24) else 'лев'\n",
    "elif month == 'сентябрь':\n",
    "  sign = 'весы' if (date >= 24) else 'дева'\n",
    "elif month == 'октябрь':\n",
    "  sign = 'скорпион' if (date >= 24) else 'весы'\n",
    "elif month == 'ноябрь':\n",
    "  sign = 'стрелец' if (date >= 23) else 'скорпион'\n",
    "elif month == 'декабрь':\n",
    "  sign = 'козерог' if (date >= 23) else 'стрелец'\n",
    "elif month == 'январь':\n",
    "  sign = 'водолей' if (date >= 21) else 'козерог'\n",
    "elif month == 'февраль':\n",
    "  sign = 'рыбы' if (date >= 21) else 'водолей'\n",
    "print (\"Ваш знак зодиака - \" + sign);"
   ]
  },
  {
   "cell_type": "code",
   "execution_count": 21,
   "metadata": {},
   "outputs": [
    {
     "name": "stdout",
     "output_type": "stream",
     "text": [
      "Введите заработанную плату в месяц: 10000\n",
      "Введите сколько процентов уходит на ипотеку: 30\n",
      "Введите сколько процентов уходит на жизнь: 20\n",
      "Введите количество премий за год: 2\n",
      "На ипотеку было потрачено:  36000.0 рублей. Было накоплено:  70000.0 рублей.\n"
     ]
    }
   ],
   "source": [
    "s = int (input (\"Введите заработанную плату в месяц: \"))\n",
    "i = int (input (\"Введите сколько процентов уходит на ипотеку: \"))\n",
    "l = int (input (\"Введите сколько процентов уходит на жизнь: \"))\n",
    "p = s/2*int (input(\"Введите количество премий за год: \"))\n",
    "print ('На ипотеку было потрачено: ', s*i/100*12, 'рублей. Было накоплено: ', (s-(s*i/100)-(s*l/100))*12+p, 'рублей.')"
   ]
  },
  {
   "cell_type": "code",
   "execution_count": null,
   "metadata": {},
   "outputs": [],
   "source": []
  }
 ],
 "metadata": {
  "kernelspec": {
   "display_name": "Python 3",
   "language": "python",
   "name": "python3"
  },
  "language_info": {
   "codemirror_mode": {
    "name": "ipython",
    "version": 3
   },
   "file_extension": ".py",
   "mimetype": "text/x-python",
   "name": "python",
   "nbconvert_exporter": "python",
   "pygments_lexer": "ipython3",
   "version": "3.7.6"
  }
 },
 "nbformat": 4,
 "nbformat_minor": 4
}
