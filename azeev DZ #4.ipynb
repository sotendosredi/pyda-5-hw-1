{
 "cells": [
  {
   "cell_type": "markdown",
   "metadata": {},
   "source": [
    "Задание 1. Дан список с визитами по городам и странам. Напишите код, который возвращает отфильтрованный список geo_logs, содержащий только визиты из России."
   ]
  },
  {
   "cell_type": "code",
   "execution_count": 25,
   "metadata": {},
   "outputs": [
    {
     "name": "stdout",
     "output_type": "stream",
     "text": [
      "Введите страну: \n",
      "[]\n"
     ]
    }
   ],
   "source": [
    "geo_logs = [\n",
    "    {'visit1': ['Москва', 'Россия']},\n",
    "    {'visit2': ['Дели', 'Индия']},\n",
    "    {'visit3': ['Владимир', 'Россия']},\n",
    "    {'visit4': ['Лиссабон', 'Португалия']},\n",
    "    {'visit5': ['Париж', 'Франция']},\n",
    "    {'visit6': ['Лиссабон', 'Португалия']},\n",
    "    {'visit7': ['Тула', 'Россия']},\n",
    "    {'visit8': ['Тула', 'Россия']},\n",
    "    {'visit9': ['Курск', 'Россия']},\n",
    "    {'visit10': ['Архангельск', 'Россия']}\n",
    "]\n",
    "\n",
    "input_country = input('Введите страну: ')\n",
    "f_geo_log =[]\n",
    "for i in range(len(geo_logs)):\n",
    "    if input_country in list(dict.values(geo_logs[i]))[0]:\n",
    "        f_geo_log.append(geo_logs[i])\n",
    "        \n",
    "print(f_geo_log)"
   ]
  },
  {
   "cell_type": "markdown",
   "metadata": {},
   "source": [
    "Задание 2. Выведите на экран все уникальные гео-ID из значений словаря ids. Т. е. список вида [213, 15, 54, 119, 98, 35]"
   ]
  },
  {
   "cell_type": "code",
   "execution_count": 37,
   "metadata": {},
   "outputs": [
    {
     "name": "stdout",
     "output_type": "stream",
     "text": [
      "[98, 35, 15, 213, 54, 119]\n"
     ]
    }
   ],
   "source": [
    "ids = {'user1': [213, 213, 213, 15, 213], \n",
    "       'user2': [54, 54, 119, 119, 119], \n",
    "       'user3': [213, 98, 98, 35]}\n",
    "\n",
    "ids_new = []\n",
    "\n",
    "for i in range(len(list(dict.values(ids)))):\n",
    "     ids_new.extend(list(dict.values(ids))[i])\n",
    "print(list(set(ids_new)))\n"
   ]
  },
  {
   "cell_type": "markdown",
   "metadata": {},
   "source": [
    "Задание 3. Дан список поисковых запросов. Получить распределение количества слов в них. Т. е. поисковых запросов из одного - слова 5%, из двух - 7%, из трех - 3% и т.д."
   ]
  },
  {
   "cell_type": "code",
   "execution_count": 76,
   "metadata": {},
   "outputs": [
    {
     "name": "stdout",
     "output_type": "stream",
     "text": [
      "Поисковых запросов из одного - слова 0 %, из двух - 38.0 %, из трех - 38.0 %, из пяти - 12.0 %, из десяти - 12.0 %"
     ]
    }
   ],
   "source": [
    "queries = [\n",
    "    'смотреть сериалы онлайн сериалы про спорт про спорт сериалы про',\n",
    "    'новости спорта',\n",
    "    'афиша кино',\n",
    "    'курс доллара',\n",
    "    'сериалы этим летом',\n",
    "    'курс по питону',\n",
    "    'сериалы про спорт',\n",
    "    'сериалы про спорт про спорт'\n",
    "]\n",
    "\n",
    "import math\n",
    "\n",
    "units = {1:'одного', 2:'двух',\n",
    "         3:'трех', 4:'четырех',\n",
    "         5:'пяти', 6:'шести', \n",
    "         7:'семи', 8:'восьми',\n",
    "         9:'девяти'}\n",
    "\n",
    "ten = {10:'десяти', 11:'одинадцати',\n",
    "       12:'двенадцати', 13:'тринадцати',\n",
    "       14:'четырнадцати', 15:'пятнадцати', \n",
    "       16:'шестнадцати', 17:'семнадцати',\n",
    "       18:'восемнадцати', 19:'девятнадцати'}\n",
    "\n",
    "even_dozens = {20:'двадцати', 30:'тридцати',\n",
    "               40:'сорока', 50:'пятидесяти',\n",
    "               60:'шестидесяти', 70:'пятнадцати', \n",
    "               80:'восьмидесяти', 90:'девяноста'}\n",
    "\n",
    "centurions = {}\n",
    "\n",
    "from collections import Counter\n",
    "\n",
    "len_queries = []\n",
    "\n",
    "for i in range(len(queries)):\n",
    "    len_queries.append(len(queries[i].split()))\n",
    "b = sorted(Counter(len_queries).items(), key=lambda x:x[1])\n",
    "b.sort()\n",
    "\n",
    "if b[0][0] == 1:\n",
    "    print('Поисковых запросов из одного - слова', round(b[0][1]/int(len(queries)),2)*100,'%', end='')\n",
    "else:\n",
    "    print('Поисковых запросов из одного - слова 0 %', end='')\n",
    "\n",
    "for i in range(len(b)):\n",
    "    if len(str(b[i][0])) == 1:\n",
    "        print(', из', units[b[i][0]], '-', round(b[i][1]/int(len(queries)),2)*100,'%', end='')\n",
    "    elif 10 <= int(b[i][0]) <= 19:\n",
    "        print(', из', ten[b[i][0]], '-', round(b[i][1]/int(len(queries)),2)*100,'%', end='')\n",
    "    else:\n",
    "        print(', из', even_dozens[math.floor(int(b[3][0])/10)*10], units[int((str(int(b[3][0])/10)).split('.')[1])],\n",
    "              '-', round(b[i][1]/int(len(queries)),2)*100,'%', end='')"
   ]
  },
  {
   "cell_type": "markdown",
   "metadata": {},
   "source": [
    "Задание 4. Дана статистика рекламных каналов по объемам продаж. Напишите скрипт, который возвращает название канала с максимальным объемом. Т. е. в данном примере скрипт должен возвращать 'yandex'."
   ]
  },
  {
   "cell_type": "code",
   "execution_count": 80,
   "metadata": {},
   "outputs": [
    {
     "name": "stdout",
     "output_type": "stream",
     "text": [
      "Канал с максимальным объемом продаж - yandex\n"
     ]
    }
   ],
   "source": [
    "stats = {'facebook': 55, 'yandex': 120, 'vk': 115, 'google': 99, 'email': 42, 'ok': 98}\n",
    "\n",
    "def get_key(d, value):\n",
    "    for k, v in d.items():\n",
    "        if v == value:\n",
    "            return k\n",
    "print('Канал с максимальным объемом продаж -',get_key(stats,max(stats.values())))"
   ]
  },
  {
   "cell_type": "markdown",
   "metadata": {},
   "source": [
    "Задание 5. Напишите код для преобразования произвольного списка вида ['2018-01-01', 'yandex', 'cpc', 100] (он может быть любой длины) в словарь {'2018-01-01': {'yandex': {'cpc': 100}}}"
   ]
  },
  {
   "cell_type": "code",
   "execution_count": 84,
   "metadata": {},
   "outputs": [
    {
     "name": "stdout",
     "output_type": "stream",
     "text": [
      "{'2018-01-01': {'yandex': {'cpc': 100}}}\n"
     ]
    }
   ],
   "source": [
    "line =  ['2018-01-01', 'yandex', 'cpc', 100]\n",
    "line.reverse()\n",
    "line[0], line[1] = line[1], line[0]\n",
    "\n",
    "for i in range(len(line)-1):\n",
    "    line_ = {}\n",
    "    line_[line[0]] = line[1]\n",
    "    del line[0]\n",
    "    del line[0]\n",
    "    line.insert(1,line_)\n",
    "line = line[0]\n",
    "print(line)"
   ]
  }
 ],
 "metadata": {
  "kernelspec": {
   "display_name": "Python 3",
   "language": "python",
   "name": "python3"
  },
  "language_info": {
   "codemirror_mode": {
    "name": "ipython",
    "version": 3
   },
   "file_extension": ".py",
   "mimetype": "text/x-python",
   "name": "python",
   "nbconvert_exporter": "python",
   "pygments_lexer": "ipython3",
   "version": "3.7.6"
  }
 },
 "nbformat": 4,
 "nbformat_minor": 4
}
